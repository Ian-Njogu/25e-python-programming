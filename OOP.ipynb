{
 "cells": [
  {
   "cell_type": "markdown",
   "id": "6a3f833f",
   "metadata": {},
   "source": [
    "#### Object Oriented Programming\n"
   ]
  },
  {
   "cell_type": "code",
   "execution_count": null,
   "id": "e9683de1",
   "metadata": {},
   "outputs": [],
   "source": [
    "# defining/ creating a class\n",
    "## syntax\n",
    "\n",
    "'''\n",
    "class class_name:\n",
    "    attribute = \n",
    "    def method_name:\n",
    "        ...\n",
    "'''"
   ]
  },
  {
   "cell_type": "code",
   "execution_count": 1,
   "id": "4362c2d1",
   "metadata": {},
   "outputs": [],
   "source": [
    "class Dog:\n",
    "    species = \"German Shepherd\"\n",
    "    def bark(self):\n",
    "        print(\"Woof woof!\")"
   ]
  },
  {
   "cell_type": "markdown",
   "id": "111430fd",
   "metadata": {},
   "source": [
    "\"Self\" is an alias for the object- it represents, specifically the current object. It allows each object to keep track of its own data, and it must be the first parameter of any method defined in a class, including the init method"
   ]
  },
  {
   "cell_type": "code",
   "execution_count": null,
   "id": "1109a871",
   "metadata": {},
   "outputs": [],
   "source": [
    "dog_1 = Dog()\n",
    "dog_1.bark()"
   ]
  }
 ],
 "metadata": {
  "kernelspec": {
   "display_name": "env",
   "language": "python",
   "name": "python3"
  },
  "language_info": {
   "codemirror_mode": {
    "name": "ipython",
    "version": 3
   },
   "file_extension": ".py",
   "mimetype": "text/x-python",
   "name": "python",
   "nbconvert_exporter": "python",
   "pygments_lexer": "ipython3",
   "version": "3.13.3"
  }
 },
 "nbformat": 4,
 "nbformat_minor": 5
}
