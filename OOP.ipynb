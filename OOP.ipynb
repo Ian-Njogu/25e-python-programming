{
 "cells": [
  {
   "cell_type": "markdown",
   "id": "6a3f833f",
   "metadata": {},
   "source": [
    "#### Object Oriented Programming\n"
   ]
  },
  {
   "cell_type": "code",
   "execution_count": null,
   "id": "e9683de1",
   "metadata": {},
   "outputs": [],
   "source": [
    "# defining/ creating a class\n",
    "## syntax\n",
    "\n",
    "'''\n",
    "class class_name:\n",
    "    attribute = \n",
    "    def method_name:\n",
    "        ...\n",
    "'''"
   ]
  },
  {
   "cell_type": "code",
   "execution_count": 1,
   "id": "4362c2d1",
   "metadata": {},
   "outputs": [],
   "source": [
    "class Dog:\n",
    "    species = \"German Shepherd\"\n",
    "    def bark(self):\n",
    "        print(\"Woof woof!\")"
   ]
  },
  {
   "cell_type": "markdown",
   "id": "111430fd",
   "metadata": {},
   "source": [
    "\"Self\" is an alias for the object- it represents, specifically the current object. It allows each object to keep track of its own data, and it must be the first parameter of any method defined in a class, including the init method"
   ]
  },
  {
   "cell_type": "code",
   "execution_count": 5,
   "id": "1109a871",
   "metadata": {},
   "outputs": [
    {
     "name": "stdout",
     "output_type": "stream",
     "text": [
      "Woof woof!\n",
      "German Shepherd\n"
     ]
    }
   ],
   "source": [
    "dog_1 = Dog()\n",
    "dog_1.bark()\n",
    "print(dog_1.species)"
   ]
  },
  {
   "cell_type": "markdown",
   "id": "1d8e1f29",
   "metadata": {},
   "source": [
    "### Constructor inPython (__init__ method)\n",
    "Often you want each object to have its own unique set of intial attributes(xtric) when it is created. \"init method\" is a special method that gives each object that will be created "
   ]
  },
  {
   "cell_type": "code",
   "execution_count": 6,
   "id": "c6afb39f",
   "metadata": {},
   "outputs": [],
   "source": [
    "class Dog:\n",
    "    def __init__(self, species, name,age):\n",
    "        self.species = species\n",
    "        self.name = name\n",
    "        self.age = age\n",
    "    def bark(self):\n",
    "        print(\"Woof woof!\")"
   ]
  },
  {
   "cell_type": "code",
   "execution_count": 7,
   "id": "00ae9629",
   "metadata": {},
   "outputs": [],
   "source": [
    "dog_1 = Dog(\"German shepherd\", \"Bosco\", 3)\n",
    "dog_2 = Dog(\"Poodle\", \"Karen\", 2)"
   ]
  },
  {
   "cell_type": "code",
   "execution_count": 10,
   "id": "211284fd",
   "metadata": {},
   "outputs": [
    {
     "name": "stdout",
     "output_type": "stream",
     "text": [
      "June\n"
     ]
    }
   ],
   "source": [
    "dog_2.name = \"June\"\n",
    "print(dog_2.name)"
   ]
  },
  {
   "cell_type": "code",
   "execution_count": 9,
   "id": "0df9c3f0",
   "metadata": {},
   "outputs": [
    {
     "name": "stdout",
     "output_type": "stream",
     "text": [
      "Bosco\n",
      "Poodle\n"
     ]
    }
   ],
   "source": [
    "print(dog_1.name)\n",
    "print(dog_2.species)"
   ]
  },
  {
   "cell_type": "markdown",
   "id": "d27153ca",
   "metadata": {},
   "source": [
    "### Class variables Vs instance variables\n",
    "class variable - attribute define within the class but outside the method"
   ]
  },
  {
   "cell_type": "code",
   "execution_count": 15,
   "id": "4c0421c8",
   "metadata": {},
   "outputs": [],
   "source": [
    "class Dog:\n",
    "    legs = 4\n",
    "    def __init__(self, species, name,age):\n",
    "        self.species = species\n",
    "        self.name = name\n",
    "        self.age = age\n",
    "    def bark(self):\n",
    "        print(\"Woof woof!\")"
   ]
  },
  {
   "cell_type": "code",
   "execution_count": 17,
   "id": "03a1d862",
   "metadata": {},
   "outputs": [],
   "source": [
    "dog_1 = Dog(\"German shepherd\", \"Bosco\", 3)\n",
    "dog_2 = Dog(\"Poodle\", \"Karen\", 2)"
   ]
  },
  {
   "cell_type": "code",
   "execution_count": 18,
   "id": "19888fa6",
   "metadata": {},
   "outputs": [
    {
     "name": "stdout",
     "output_type": "stream",
     "text": [
      "4\n"
     ]
    }
   ],
   "source": [
    "print(dog_2.legs)"
   ]
  },
  {
   "cell_type": "code",
   "execution_count": 2,
   "id": "2f220792",
   "metadata": {},
   "outputs": [],
   "source": [
    "class Book:\n",
    "    def __init__(self, title,author,book_no):\n",
    "        self.title = title\n",
    "        self.author = author\n",
    "        self.book_no = book_no\n",
    "        self.is_borrowed = False\n",
    "    def borrow_book(self):\n",
    "        self.is_borrowed = True\n",
    "    def return_book(self):\n",
    "        self.is_borrowed = False\n",
    "    def __str__(self):\n",
    "        status = \"Borrowed\" if self.is_borrowed else \"Available\"\n",
    "        return f\"Title: {self.title}, Author: {self.author}, Book.No: {self.book_no}, Status:{status}\""
   ]
  },
  {
   "cell_type": "code",
   "execution_count": 3,
   "id": "b64dd40a",
   "metadata": {},
   "outputs": [],
   "source": [
    "book_1 = Book(\"The River Between\", \"Ngugi wa Thi'ong'o\", 1)"
   ]
  },
  {
   "cell_type": "code",
   "execution_count": 5,
   "id": "ac78bbed",
   "metadata": {},
   "outputs": [],
   "source": [
    "book_1.borrow_book()"
   ]
  },
  {
   "cell_type": "code",
   "execution_count": 6,
   "id": "20892287",
   "metadata": {},
   "outputs": [
    {
     "name": "stdout",
     "output_type": "stream",
     "text": [
      "Title: The River Between, Author: Ngugi wa Thi'ong'o, Book.No: 1, Status:Borrowed\n"
     ]
    }
   ],
   "source": [
    "print(book_1)"
   ]
  },
  {
   "cell_type": "code",
   "execution_count": 7,
   "id": "64afe530",
   "metadata": {},
   "outputs": [],
   "source": [
    "book_1.return_book()"
   ]
  },
  {
   "cell_type": "code",
   "execution_count": 8,
   "id": "74538f4b",
   "metadata": {},
   "outputs": [
    {
     "name": "stdout",
     "output_type": "stream",
     "text": [
      "Title: The River Between, Author: Ngugi wa Thi'ong'o, Book.No: 1, Status:Available\n"
     ]
    }
   ],
   "source": [
    "print(book_1)"
   ]
  },
  {
   "cell_type": "code",
   "execution_count": 9,
   "id": "86ca9f8d",
   "metadata": {},
   "outputs": [],
   "source": [
    "class Member:\n",
    "    def __init__(self, name, member_id):\n",
    "        self.name = name\n",
    "        self.member_id = member_id\n",
    "        self.borrowed_books = []\n",
    "    def borrow_book(self, book):\n",
    "        if book.is_borrowed:\n",
    "            print(f\"{book}is unavailable\")\n",
    "        else:\n",
    "            book.borrow_book()\n",
    "            self.borrowed_books.append(book)\n",
    "        \n",
    "       \n",
    "    def return_book(self, book):\n",
    "       \n",
    "        if book in self.borrow_book:\n",
    "            self.borrow_book.remove(book)\n",
    "            book.return_book() \n",
    "\n",
    "    def __str__(self):\n",
    "        books = \",\".join([book.title for book in self.borrowed_books]) or \"Member has no borrowed books\"\n",
    "        return f\"Member: {self.name}, Member id: {self.member_id}, Borrowed books: {books}\"\n",
    "        \n",
    "        \n"
   ]
  },
  {
   "cell_type": "code",
   "execution_count": 10,
   "id": "7c8b0fde",
   "metadata": {},
   "outputs": [
    {
     "name": "stdout",
     "output_type": "stream",
     "text": [
      "Member: Ian, Member id: 21, Borrowed books: Blossoms of the savannah\n"
     ]
    }
   ],
   "source": [
    "book_3 = Book(\"Blossoms of the savannah\", \"Brian\", 1)\n",
    "book_4 = Book(\"Without fail\", \"Henry\", 1)\n",
    "member_1 = Member(\"Ian\", 21)\n",
    "\n",
    "member_1.borrow_book(book_3)\n",
    "print(member_1)"
   ]
  },
  {
   "cell_type": "code",
   "execution_count": null,
   "id": "0911508b",
   "metadata": {},
   "outputs": [],
   "source": [
    "class Library:\n",
    "    def __init__(self):\n",
    "        self.books = []\n",
    "        self.members = []\n",
    "    def add_book(self, book):\n",
    "        self.books.append(book)\n",
    "    def add_member(self, member):\n",
    "        self.members.append(member)\n",
    "    def find_book(self, book_no):\n",
    "        for book in self.books:\n",
    "            if book.book_no == book_no:\n",
    "                return book\n",
    "        return None\n",
    "    def find_member(self, member_id):\n",
    "        for member in self.members:\n",
    "            if member.member_id == member_id:\n",
    "                return member\n",
    "        return None \n",
    "    def borrow_book(self, book_no, member_id):\n",
    "        member = self.find_member(member_id)\n",
    "        book = self.find_book(book_no)\n",
    "        if not member:\n",
    "            return \"Member not found\"\n",
    "        if not book:\n",
    "            return \"Book not found\"\n",
    "        if book.is_borrowed:\n",
    "            return \"Book is already borrowed\" \n",
    "        member.borrow_book(book)\n",
    "        return f\"Book {book.title} borrowed by {member.name}\"\n",
    "    def return_book(self, member_id, book_no):\n",
    "        member = self.find_member(member_id)\n",
    "        book = self.find_book(book_no)\n",
    "        if not member:\n",
    "            return \"Member not found\"\n",
    "        if not book:\n",
    "            return \"book not found\"\n",
    "        if book not in member.borrowed_books:\n",
    "            return \"This member did not borrow this book\"\n",
    "        member.return_book(book)\n",
    "        return f\"Book {book.title} returned ny {member.name}\" \n",
    "    def __str__(self):\n",
    "        book_info = '\\n'.join([str(book) for book in self.books])\n",
    "        member_info = '\\n'.join([str(member) for member in self.members])\n",
    "        return f\"Library Status:\\n Books:\\n {book_info}\\n Members: \\n{member_info}\""
   ]
  }
 ],
 "metadata": {
  "kernelspec": {
   "display_name": "env",
   "language": "python",
   "name": "python3"
  },
  "language_info": {
   "codemirror_mode": {
    "name": "ipython",
    "version": 3
   },
   "file_extension": ".py",
   "mimetype": "text/x-python",
   "name": "python",
   "nbconvert_exporter": "python",
   "pygments_lexer": "ipython3",
   "version": "3.13.3"
  }
 },
 "nbformat": 4,
 "nbformat_minor": 5
}
