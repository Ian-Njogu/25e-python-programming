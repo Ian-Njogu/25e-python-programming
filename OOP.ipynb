{
 "cells": [
  {
   "cell_type": "markdown",
   "id": "6a3f833f",
   "metadata": {},
   "source": [
    "#### Object Oriented Programming\n"
   ]
  },
  {
   "cell_type": "code",
   "execution_count": null,
   "id": "e9683de1",
   "metadata": {},
   "outputs": [],
   "source": [
    "# defining/ creating a class\n",
    "## syntax\n",
    "\n",
    "'''\n",
    "class class_name:\n",
    "    attribute = \n",
    "    def method_name:\n",
    "        ...\n",
    "'''"
   ]
  },
  {
   "cell_type": "code",
   "execution_count": 1,
   "id": "4362c2d1",
   "metadata": {},
   "outputs": [],
   "source": [
    "class Dog:\n",
    "    species = \"German Shepherd\"\n",
    "    def bark(self):\n",
    "        print(\"Woof woof!\")"
   ]
  },
  {
   "cell_type": "markdown",
   "id": "111430fd",
   "metadata": {},
   "source": [
    "\"Self\" is an alias for the object- it represents, specifically the current object. It allows each object to keep track of its own data, and it must be the first parameter of any method defined in a class, including the init method"
   ]
  },
  {
   "cell_type": "code",
   "execution_count": 5,
   "id": "1109a871",
   "metadata": {},
   "outputs": [
    {
     "name": "stdout",
     "output_type": "stream",
     "text": [
      "Woof woof!\n",
      "German Shepherd\n"
     ]
    }
   ],
   "source": [
    "dog_1 = Dog()\n",
    "dog_1.bark()\n",
    "print(dog_1.species)"
   ]
  },
  {
   "cell_type": "markdown",
   "id": "1d8e1f29",
   "metadata": {},
   "source": [
    "### Constructor inPython (__init__ method)\n",
    "Often you want each object to have its own unique set of intial attributes(xtric) when it is created. \"init method\" is a special method that gives each object that will be created "
   ]
  },
  {
   "cell_type": "code",
   "execution_count": 6,
   "id": "c6afb39f",
   "metadata": {},
   "outputs": [],
   "source": [
    "class Dog:\n",
    "    def __init__(self, species, name,age):\n",
    "        self.species = species\n",
    "        self.name = name\n",
    "        self.age = age\n",
    "    def bark(self):\n",
    "        print(\"Woof woof!\")"
   ]
  },
  {
   "cell_type": "code",
   "execution_count": 7,
   "id": "00ae9629",
   "metadata": {},
   "outputs": [],
   "source": [
    "dog_1 = Dog(\"German shepherd\", \"Bosco\", 3)\n",
    "dog_2 = Dog(\"Poodle\", \"Karen\", 2)"
   ]
  },
  {
   "cell_type": "code",
   "execution_count": 10,
   "id": "211284fd",
   "metadata": {},
   "outputs": [
    {
     "name": "stdout",
     "output_type": "stream",
     "text": [
      "June\n"
     ]
    }
   ],
   "source": [
    "dog_2.name = \"June\"\n",
    "print(dog_2.name)"
   ]
  },
  {
   "cell_type": "code",
   "execution_count": 9,
   "id": "0df9c3f0",
   "metadata": {},
   "outputs": [
    {
     "name": "stdout",
     "output_type": "stream",
     "text": [
      "Bosco\n",
      "Poodle\n"
     ]
    }
   ],
   "source": [
    "print(dog_1.name)\n",
    "print(dog_2.species)"
   ]
  },
  {
   "cell_type": "markdown",
   "id": "d27153ca",
   "metadata": {},
   "source": [
    "### Class variables Vs instance variables\n",
    "class variable - attribute define within the class but outside the method"
   ]
  },
  {
   "cell_type": "code",
   "execution_count": 15,
   "id": "4c0421c8",
   "metadata": {},
   "outputs": [],
   "source": [
    "class Dog:\n",
    "    legs = 4\n",
    "    def __init__(self, species, name,age):\n",
    "        self.species = species\n",
    "        self.name = name\n",
    "        self.age = age\n",
    "    def bark(self):\n",
    "        print(\"Woof woof!\")"
   ]
  },
  {
   "cell_type": "code",
   "execution_count": 17,
   "id": "03a1d862",
   "metadata": {},
   "outputs": [],
   "source": [
    "dog_1 = Dog(\"German shepherd\", \"Bosco\", 3)\n",
    "dog_2 = Dog(\"Poodle\", \"Karen\", 2)"
   ]
  },
  {
   "cell_type": "code",
   "execution_count": 18,
   "id": "19888fa6",
   "metadata": {},
   "outputs": [
    {
     "name": "stdout",
     "output_type": "stream",
     "text": [
      "4\n"
     ]
    }
   ],
   "source": [
    "print(dog_2.legs)"
   ]
  },
  {
   "cell_type": "code",
   "execution_count": 27,
   "id": "2f220792",
   "metadata": {},
   "outputs": [],
   "source": [
    "class Book:\n",
    "    def __init__(self, title,author,book_no):\n",
    "        self.title = title\n",
    "        self.author = author\n",
    "        self.book_no = book_no\n",
    "        self.is_borrowed = False\n",
    "    def borrow_book(self):\n",
    "        self.is_borrowed = True\n",
    "    def return_book(self):\n",
    "        self.is_borrowed = False\n",
    "    def __str__(self):\n",
    "        status = \"Borrowed\" if self.is_borrowed else \"Available\"\n",
    "        return f\"Title: {self.title}, Author: {self.author}, Book.No: {self.book_no}, Status:{status}\""
   ]
  },
  {
   "cell_type": "code",
   "execution_count": 20,
   "id": "b64dd40a",
   "metadata": {},
   "outputs": [],
   "source": [
    "book_1 = Book(\"The River Between\", \"Ngugi wa Thi'ong'o\", 1)"
   ]
  },
  {
   "cell_type": "code",
   "execution_count": 21,
   "id": "ac78bbed",
   "metadata": {},
   "outputs": [],
   "source": [
    "book_1.borrow()"
   ]
  },
  {
   "cell_type": "code",
   "execution_count": 22,
   "id": "20892287",
   "metadata": {},
   "outputs": [
    {
     "name": "stdout",
     "output_type": "stream",
     "text": [
      "Title: The River Between, Author: Ngugi wa Thi'ong'o, Book.No: 1, Status:Borrowed\n"
     ]
    }
   ],
   "source": [
    "print(book_1)"
   ]
  },
  {
   "cell_type": "code",
   "execution_count": 23,
   "id": "64afe530",
   "metadata": {},
   "outputs": [],
   "source": [
    "book_1.return_book()"
   ]
  },
  {
   "cell_type": "code",
   "execution_count": 24,
   "id": "74538f4b",
   "metadata": {},
   "outputs": [
    {
     "name": "stdout",
     "output_type": "stream",
     "text": [
      "Title: The River Between, Author: Ngugi wa Thi'ong'o, Book.No: 1, Status:Available\n"
     ]
    }
   ],
   "source": [
    "print(book_1)"
   ]
  },
  {
   "cell_type": "code",
   "execution_count": 30,
   "id": "86ca9f8d",
   "metadata": {},
   "outputs": [],
   "source": [
    "class Member:\n",
    "    def __init__(self, name, member_id):\n",
    "        self.name = name\n",
    "        self.member_id = member_id\n",
    "        self.borrowed_books = []\n",
    "    def borrow_book(self, book):\n",
    "        if book.is_borrowed:\n",
    "            print(f\"{book}is unavailable\")\n",
    "        else:\n",
    "            book.borrow()\n",
    "            self.borrow_book.append(book)\n",
    "        \n",
    "       \n",
    "    def return_book(self, book):\n",
    "       \n",
    "        if book in self.borrow_book:\n",
    "            self.borrow_book.remove(book)\n",
    "            book.return_book() \n",
    "\n",
    "    def __str__(self):\n",
    "        books = \",\".join([book.title for book in Book.borrow]) or \"Member has no borrowed books\"\n",
    "        return f\"Member: {self.name}, Member id: {self.member_id}, Borrowed books: {self.borrowed_books}\"\n",
    "        \n",
    "        \n"
   ]
  },
  {
   "cell_type": "code",
   "execution_count": null,
   "id": "7c8b0fde",
   "metadata": {},
   "outputs": [],
   "source": [
    "book_1 = Book(\"Blossoms of the savannah\", \"Brian\", 1)\n",
    "book_4 = Book (\"Without fail\", \"Henry\", 1)"
   ]
  },
  {
   "cell_type": "code",
   "execution_count": null,
   "id": "c02c3e57",
   "metadata": {},
   "outputs": [],
   "source": []
  }
 ],
 "metadata": {
  "kernelspec": {
   "display_name": "env",
   "language": "python",
   "name": "python3"
  },
  "language_info": {
   "codemirror_mode": {
    "name": "ipython",
    "version": 3
   },
   "file_extension": ".py",
   "mimetype": "text/x-python",
   "name": "python",
   "nbconvert_exporter": "python",
   "pygments_lexer": "ipython3",
   "version": "3.13.3"
  }
 },
 "nbformat": 4,
 "nbformat_minor": 5
}
