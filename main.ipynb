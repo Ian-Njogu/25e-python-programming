{
 "cells": [
  {
   "cell_type": "code",
   "execution_count": 1,
   "id": "0ac1c126",
   "metadata": {},
   "outputs": [
    {
     "name": "stdout",
     "output_type": "stream",
     "text": [
      "Positive\n"
     ]
    }
   ],
   "source": [
    "# def check_number(num):\n",
    "#     if num > 0:\n",
    "#         return \"Positive\"\n",
    "#     elif num < 0:\n",
    "#         return \"Negative\"\n",
    "#     else:\n",
    "#         return \"Zero\"\n",
    "# print(check_number(10))   # Output: Positive\n",
    "# print(check_number(-5))   # Output: Negative\n",
    "\n",
    "def check_number(num):\n",
    "    try: \n",
    "        if num > 0:\n",
    "            return \"Positive\"\n",
    "        elif num < 0:\n",
    "            \"Negative\"\n",
    "        else:\n",
    "            return \"Zero\"\n",
    "    except ValueError:\n",
    "        return \"Invalid input, please enter a number\"   \n",
    "print(check_number(8))   # Output: Positivegit"
   ]
  },
  {
   "cell_type": "code",
   "execution_count": 2,
   "id": "20b296d4",
   "metadata": {},
   "outputs": [
    {
     "name": "stdout",
     "output_type": "stream",
     "text": [
      "Welcome, ian!\n"
     ]
    }
   ],
   "source": [
    "name = input(\"Enter your name: \")\n",
    "print(\"Welcome, \" + name + \"!\")\n"
   ]
  },
  {
   "cell_type": "code",
   "execution_count": null,
   "id": "86a3cdf9",
   "metadata": {},
   "outputs": [
    {
     "data": {
      "text/plain": [
       "7.5"
      ]
     },
     "execution_count": 6,
     "metadata": {},
     "output_type": "execute_result"
    }
   ],
   "source": [
    "hours = int(input(\"Enter hours worked: \"))\n",
    "rate = float(input(\"Enter hourly rate: \"))\n",
    "pay = hours * rate\n",
    "pay\n",
    "\n"
   ]
  },
  {
   "cell_type": "code",
   "execution_count": 1,
   "id": "8187c373",
   "metadata": {},
   "outputs": [
    {
     "name": "stdout",
     "output_type": "stream",
     "text": [
      "Your temperature in farenheit is 68.0\n"
     ]
    }
   ],
   "source": [
    "celcius = float(input(\"Input temperature in celcius.\"))\n",
    "farenheit = (celcius * 9/5) + 32\n",
    "print(f\"Your temperature in farenheit is {farenheit}\")"
   ]
  },
  {
   "cell_type": "code",
   "execution_count": 9,
   "id": "ad4759f7",
   "metadata": {},
   "outputs": [
    {
     "data": {
      "text/plain": [
       "68.0"
      ]
     },
     "execution_count": 9,
     "metadata": {},
     "output_type": "execute_result"
    }
   ],
   "source": [
    "def temperature_converter(celcius):\n",
    "    celcius = float(input(\"Please input temperature\"))\n",
    "    farenheit = float((celcius * 9/5) + 32)\n",
    "    return farenheit\n",
    "\n",
    "temperature_converter(celcius)"
   ]
  },
  {
   "cell_type": "code",
   "execution_count": null,
   "id": "7862ceeb",
   "metadata": {},
   "outputs": [
    {
     "name": "stdout",
     "output_type": "stream",
     "text": [
      "You are not eligible\n"
     ]
    }
   ],
   "source": [
    "#IF AND ELSE STATEMENTS\n",
    "age = 10\n",
    "if age >=18:\n",
    "    print(\"You are eligible to vote\")\n",
    "else:\n",
    "    print(\"You are not eligible\")"
   ]
  },
  {
   "cell_type": "code",
   "execution_count": 3,
   "id": "c61c24ce",
   "metadata": {},
   "outputs": [
    {
     "name": "stdout",
     "output_type": "stream",
     "text": [
      "Too young to vote\n"
     ]
    }
   ],
   "source": [
    "#nested if statements\n",
    "age = 4\n",
    "is_registered = True\n",
    "\n",
    "if age>=18:\n",
    "    if is_registered:\n",
    "        print(\"You are eligible to vote\")\n",
    "    else:\n",
    "        print(\"Not eligible to vote\")\n",
    "else: \n",
    "    print(\"Too young to vote\")\n"
   ]
  },
  {
   "cell_type": "code",
   "execution_count": 4,
   "id": "239c7384",
   "metadata": {},
   "outputs": [
    {
     "name": "stdout",
     "output_type": "stream",
     "text": [
      "You have not input a valid age, please try again\n"
     ]
    }
   ],
   "source": [
    "#Understanding try and except clause\n",
    "age = input(\"Please enter your age\")\n",
    "\n",
    "try:\n",
    "    input_age=int(age)\n",
    "except:\n",
    "    input_age=-1\n",
    "    if input_age<0:\n",
    "        print(\"You have not input a valid age, please try again\")"
   ]
  },
  {
   "cell_type": "markdown",
   "id": "b7eb0ae3",
   "metadata": {},
   "source": [
    "Loops and Iterations\n",
    "\n",
    "WHILE LOOPS"
   ]
  },
  {
   "cell_type": "code",
   "execution_count": 5,
   "id": "43bed000",
   "metadata": {},
   "outputs": [
    {
     "name": "stdout",
     "output_type": "stream",
     "text": [
      "5, My name is.. what?\n",
      "4, My name is.. what?\n",
      "3, My name is.. what?\n",
      "2, My name is.. what?\n",
      "1, My name is.. what?\n",
      "SLIM SHADY!!!...\n"
     ]
    }
   ],
   "source": [
    "#While loops will execute a code over and over (iterate), as long as the condition is true\n",
    "count = 5 \n",
    "while count>0:\n",
    "    print(f\"{count}, My name is.. what?\")\n",
    "    count=count-1\n",
    "print(\"SLIM SHADY!!!...\")"
   ]
  },
  {
   "cell_type": "code",
   "execution_count": null,
   "id": "468d26a2",
   "metadata": {},
   "outputs": [],
   "source": [
    "while True:\n",
    "    name=input(\"Please enter the first name of the first president of the replubic of Kenya\")\n",
    "    if name==\"Jomo\":\n",
    "        print(\"Well done! That is correct!\")\n",
    "        break\n",
    "    else:\n",
    "        print(\"That is incorrect, try again\")"
   ]
  },
  {
   "cell_type": "code",
   "execution_count": null,
   "id": "daae975b",
   "metadata": {},
   "outputs": [],
   "source": [
    "while True:\n",
    "    message=input(\"Please input your message to gpt here: (type quit to exit)\")\n",
    "    if message==\"quit\":\n",
    "        print(\"GPT says goodbye!\")\n",
    "        break\n",
    "    if \"badword\" in message:\n",
    "        continue\n",
    "    print(f\"Your message to GPT was ,{message}\")"
   ]
  },
  {
   "cell_type": "markdown",
   "id": "d41473d7",
   "metadata": {},
   "source": [
    "FOR LOOPS"
   ]
  },
  {
   "cell_type": "code",
   "execution_count": 1,
   "id": "37f55f47",
   "metadata": {},
   "outputs": [
    {
     "name": "stdout",
     "output_type": "stream",
     "text": [
      "70\n"
     ]
    }
   ],
   "source": [
    "my_list = [3,40,5,70,28]\n",
    "largest_so_far=my_list[0]\n",
    "\n",
    "for x in my_list:\n",
    "    if x > largest_so_far:\n",
    "        largest_so_far= x\n",
    "print(largest_so_far)"
   ]
  },
  {
   "cell_type": "code",
   "execution_count": null,
   "id": "aa2aacc1",
   "metadata": {},
   "outputs": [
    {
     "name": "stdout",
     "output_type": "stream",
     "text": [
      "91\n",
      "go higher\n"
     ]
    }
   ],
   "source": [
    "import random\n",
    "random_number = random.randint(1, 100)\n",
    "\n",
    "attempts = 0\n",
    "while attempts <= 3:\n",
    "    user_number = int(input(\"pick number between 1, 100\"))\n",
    "    if user_number < random_number:\n",
    "        print(\"go higher\")\n",
    "    elif user_number > random_number:\n",
    "        print(\"go lower\")\n",
    "    else:\n",
    "        print(\"correct\")\n",
    "    attempts = attempts+1\n",
    "\n"
   ]
  }
 ],
 "metadata": {
  "kernelspec": {
   "display_name": "env",
   "language": "python",
   "name": "python3"
  },
  "language_info": {
   "codemirror_mode": {
    "name": "ipython",
    "version": 3
   },
   "file_extension": ".py",
   "mimetype": "text/x-python",
   "name": "python",
   "nbconvert_exporter": "python",
   "pygments_lexer": "ipython3",
   "version": "3.13.3"
  }
 },
 "nbformat": 4,
 "nbformat_minor": 5
}
