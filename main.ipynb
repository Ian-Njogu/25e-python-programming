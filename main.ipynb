{
 "cells": [
  {
   "cell_type": "code",
   "execution_count": 1,
   "id": "0ac1c126",
   "metadata": {},
   "outputs": [
    {
     "name": "stdout",
     "output_type": "stream",
     "text": [
      "Positive\n"
     ]
    }
   ],
   "source": [
    "# def check_number(num):\n",
    "#     if num > 0:\n",
    "#         return \"Positive\"\n",
    "#     elif num < 0:\n",
    "#         return \"Negative\"\n",
    "#     else:\n",
    "#         return \"Zero\"\n",
    "# print(check_number(10))   # Output: Positive\n",
    "# print(check_number(-5))   # Output: Negative\n",
    "\n",
    "def check_number(num):\n",
    "    try: \n",
    "        if num > 0:\n",
    "            return \"Positive\"\n",
    "        elif num < 0:\n",
    "            \"Negative\"\n",
    "        else:\n",
    "            return \"Zero\"\n",
    "    except ValueError:\n",
    "        return \"Invalid input, please enter a number\"   \n",
    "print(check_number(8))   # Output: Positivegit"
   ]
  }
 ],
 "metadata": {
  "kernelspec": {
   "display_name": "env",
   "language": "python",
   "name": "python3"
  },
  "language_info": {
   "codemirror_mode": {
    "name": "ipython",
    "version": 3
   },
   "file_extension": ".py",
   "mimetype": "text/x-python",
   "name": "python",
   "nbconvert_exporter": "python",
   "pygments_lexer": "ipython3",
   "version": "3.13.3"
  }
 },
 "nbformat": 4,
 "nbformat_minor": 5
}
