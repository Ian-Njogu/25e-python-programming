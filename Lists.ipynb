{
 "cells": [
  {
   "cell_type": "markdown",
   "id": "85aae30b",
   "metadata": {},
   "source": [
    "lists\n",
    "\n",
    "A list is a built-in python data structure used to store multiple items in a single variable.\n",
    "Lists artes:\n",
    " ordered: Elements maintain insertion order.\n",
    " Mutable: can be changed.\n",
    " Indexed: accessed by zero-based index\n",
    " Allow duplicates: Multiple identical values are allowed.\n",
    " Can hold mixed data types"
   ]
  },
  {
   "cell_type": "code",
   "execution_count": 58,
   "id": "81722f1c",
   "metadata": {},
   "outputs": [],
   "source": [
    "#Empty lists\n",
    "my_list = []\n",
    "\n",
    "#List of integers\n",
    "numbers = [1,2,3]\n",
    "\n",
    "#Mixed data types\n",
    "mixed = [1, 'apple', 3.14, True]\n",
    "\n",
    "#Nested list\n",
    "nested = [[1,2], [3,4]]\n"
   ]
  },
  {
   "cell_type": "markdown",
   "id": "9513f7c2",
   "metadata": {},
   "source": [
    "Accessing Elements\n",
    "\n",
    "By Index"
   ]
  },
  {
   "cell_type": "code",
   "execution_count": null,
   "id": "a9a468b9",
   "metadata": {},
   "outputs": [
    {
     "data": {
      "text/plain": [
       "'banana'"
      ]
     },
     "execution_count": 13,
     "metadata": {},
     "output_type": "execute_result"
    }
   ],
   "source": [
    "fruits = ['apple', 'banana', 'mango', 'grape', 'orange']\n",
    "fruits[1]"
   ]
  },
  {
   "cell_type": "markdown",
   "id": "2506472e",
   "metadata": {},
   "source": [
    "By Slicing"
   ]
  },
  {
   "cell_type": "code",
   "execution_count": 48,
   "id": "544569b1",
   "metadata": {},
   "outputs": [
    {
     "data": {
      "text/plain": [
       "['apple', 'banana', 'mango']"
      ]
     },
     "execution_count": 48,
     "metadata": {},
     "output_type": "execute_result"
    }
   ],
   "source": [
    "fruits[0:3]\n",
    "#using steps in slicing\n",
    "# fruits[0:5:2]"
   ]
  },
  {
   "cell_type": "markdown",
   "id": "f1896832",
   "metadata": {},
   "source": [
    "Modifying lists"
   ]
  },
  {
   "cell_type": "code",
   "execution_count": 49,
   "id": "3d3c4375",
   "metadata": {},
   "outputs": [
    {
     "data": {
      "text/plain": [
       "['apple', 'banana', 'mango', 'pineapple']"
      ]
     },
     "execution_count": 49,
     "metadata": {},
     "output_type": "execute_result"
    }
   ],
   "source": [
    "#Add a new fruit at the end\n",
    "fruits.append('pineapple')\n",
    "fruits"
   ]
  },
  {
   "cell_type": "code",
   "execution_count": 50,
   "id": "d3051010",
   "metadata": {},
   "outputs": [
    {
     "data": {
      "text/plain": [
       "['apple', 'banana', 'mango', 'pineapple', 'kiwi']"
      ]
     },
     "execution_count": 50,
     "metadata": {},
     "output_type": "execute_result"
    }
   ],
   "source": [
    "# Add a new fruit at an index\n",
    "fruits.insert(4, 'kiwi')\n",
    "fruits"
   ]
  },
  {
   "cell_type": "code",
   "execution_count": 52,
   "id": "68ffa18d",
   "metadata": {},
   "outputs": [
    {
     "data": {
      "text/plain": [
       "['apple', 'banana', 'mango', 'pineapple']"
      ]
     },
     "execution_count": 52,
     "metadata": {},
     "output_type": "execute_result"
    }
   ],
   "source": [
    "# remove an element from the list\n",
    "fruits.remove('kiwi')\n",
    "fruits"
   ]
  },
  {
   "cell_type": "markdown",
   "id": "c2307e54",
   "metadata": {},
   "source": [
    "LOOPING THROUGH A LIST"
   ]
  },
  {
   "cell_type": "code",
   "execution_count": 53,
   "id": "51e57415",
   "metadata": {},
   "outputs": [
    {
     "name": "stdout",
     "output_type": "stream",
     "text": [
      "apple\n",
      "banana\n",
      "mango\n",
      "pineapple\n"
     ]
    }
   ],
   "source": [
    "for fruit in fruits:\n",
    "    print(fruit)"
   ]
  },
  {
   "cell_type": "markdown",
   "id": "a6b641f9",
   "metadata": {},
   "source": [
    "String and list relationship\n",
    "    Strings can be converted to lists using spilt()"
   ]
  },
  {
   "cell_type": "code",
   "execution_count": 54,
   "id": "9ce07be2",
   "metadata": {},
   "outputs": [
    {
     "data": {
      "text/plain": [
       "['Data', 'science', 'is', 'fun']"
      ]
     },
     "execution_count": 54,
     "metadata": {},
     "output_type": "execute_result"
    }
   ],
   "source": [
    "sentence = \"Data science is fun\"\n",
    "words = sentence.split()\n",
    "words"
   ]
  },
  {
   "cell_type": "markdown",
   "id": "20c0a022",
   "metadata": {},
   "source": [
    "Lists can be converted back to strings using join()"
   ]
  },
  {
   "cell_type": "code",
   "execution_count": 55,
   "id": "dee14bcc",
   "metadata": {},
   "outputs": [
    {
     "data": {
      "text/plain": [
       "'Data science is fun'"
      ]
     },
     "execution_count": 55,
     "metadata": {},
     "output_type": "execute_result"
    }
   ],
   "source": [
    "sentence = ' '.join(words)\n",
    "sentence"
   ]
  },
  {
   "cell_type": "markdown",
   "id": "3821ce52",
   "metadata": {},
   "source": [
    "Useful Built-in Functions"
   ]
  },
  {
   "cell_type": "code",
   "execution_count": 59,
   "id": "f93de6b5",
   "metadata": {},
   "outputs": [
    {
     "data": {
      "text/plain": [
       "3"
      ]
     },
     "execution_count": 59,
     "metadata": {},
     "output_type": "execute_result"
    }
   ],
   "source": [
    "max(numbers) #largest number"
   ]
  },
  {
   "cell_type": "markdown",
   "id": "87bfb3a1",
   "metadata": {},
   "source": [
    "TUPLES\n",
    "A tuple is used to store multiple items\n",
    "#Difference between tuples and lists is that tuples are immutable whereas lists are mutable"
   ]
  },
  {
   "cell_type": "code",
   "execution_count": 61,
   "id": "0bc8f9f1",
   "metadata": {},
   "outputs": [
    {
     "data": {
      "text/plain": [
       "(5,)"
      ]
     },
     "execution_count": 61,
     "metadata": {},
     "output_type": "execute_result"
    }
   ],
   "source": [
    "# Empty tuples\n",
    "empty = ()\n",
    "\n",
    "#Without parentheses (tuple packing)\n",
    "packed = 1, 2, 3\n",
    "\n",
    "#Single element tuple (must include a comma)\n",
    "single = (5,)\n",
    "single"
   ]
  },
  {
   "cell_type": "markdown",
   "id": "7328448a",
   "metadata": {},
   "source": [
    "Accessing Elements\n",
    "\n",
    "Indexing"
   ]
  },
  {
   "cell_type": "code",
   "execution_count": 88,
   "id": "5546aa3e",
   "metadata": {},
   "outputs": [
    {
     "data": {
      "text/plain": [
       "('mango', 'banana')"
      ]
     },
     "execution_count": 88,
     "metadata": {},
     "output_type": "execute_result"
    }
   ],
   "source": [
    "tuple = ('apple', 'banana','mango')\n",
    "tuple[1:3][::-1]"
   ]
  },
  {
   "cell_type": "markdown",
   "id": "96e8a02f",
   "metadata": {},
   "source": [
    "Tuple Unpacking\n",
    "\n",
    "Assign values to multiple variables in one line:"
   ]
  },
  {
   "cell_type": "code",
   "execution_count": 85,
   "id": "61cd2014",
   "metadata": {},
   "outputs": [
    {
     "data": {
      "text/plain": [
       "('John', 30, 'proffessor')"
      ]
     },
     "execution_count": 85,
     "metadata": {},
     "output_type": "execute_result"
    }
   ],
   "source": [
    "person = ('John', 30, 'proffessor')\n",
    "\n",
    "\n",
    "person"
   ]
  },
  {
   "cell_type": "code",
   "execution_count": 86,
   "id": "045a106b",
   "metadata": {},
   "outputs": [
    {
     "data": {
      "text/plain": [
       "4"
      ]
     },
     "execution_count": 86,
     "metadata": {},
     "output_type": "execute_result"
    }
   ],
   "source": [
    "nested = (1, 2, (3,4), (5,6))\n",
    "nested[2][1]\n",
    "#Access 4\n"
   ]
  },
  {
   "cell_type": "code",
   "execution_count": null,
   "id": "1c9517ab",
   "metadata": {},
   "outputs": [],
   "source": []
  }
 ],
 "metadata": {
  "kernelspec": {
   "display_name": "env",
   "language": "python",
   "name": "python3"
  },
  "language_info": {
   "codemirror_mode": {
    "name": "ipython",
    "version": 3
   },
   "file_extension": ".py",
   "mimetype": "text/x-python",
   "name": "python",
   "nbconvert_exporter": "python",
   "pygments_lexer": "ipython3",
   "version": "3.13.3"
  }
 },
 "nbformat": 4,
 "nbformat_minor": 5
}
