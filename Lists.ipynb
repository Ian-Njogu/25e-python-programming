{
 "cells": [
  {
   "cell_type": "markdown",
   "id": "85aae30b",
   "metadata": {},
   "source": [
    "lists\n",
    "\n",
    "A list is a built-in python data structure used to store multiple items in a single variable.\n",
    "Lists artes:\n",
    " ordered: Elements maintain insertion order.\n",
    " Mutable: can be changed.\n",
    " Indexed: accessed by zero-based index\n",
    " Allow duplicates: Multiple identical values are allowed.\n",
    " Can hold mixed data types"
   ]
  },
  {
   "cell_type": "code",
   "execution_count": null,
   "id": "81722f1c",
   "metadata": {},
   "outputs": [],
   "source": [
    "#Empty lists\n",
    "my_list = []\n",
    "\n",
    "#List of integers\n",
    "numbers = [1,2,3]\n",
    "\n",
    "#Mixed data types\n",
    "mixed = [1, 'apple', 3.14, True]\n",
    "\n",
    "#Nested list\n",
    "nested = [[1,2], [3,4]]\n"
   ]
  },
  {
   "cell_type": "markdown",
   "id": "9513f7c2",
   "metadata": {},
   "source": [
    "Accessing Elements\n",
    "\n",
    "By Index"
   ]
  },
  {
   "cell_type": "code",
   "execution_count": null,
   "id": "a9a468b9",
   "metadata": {},
   "outputs": [
    {
     "data": {
      "text/plain": [
       "'banana'"
      ]
     },
     "execution_count": 13,
     "metadata": {},
     "output_type": "execute_result"
    }
   ],
   "source": [
    "fruits = ['apple', 'banana', 'mango', 'grape', 'orange']\n",
    "fruits[1]"
   ]
  },
  {
   "cell_type": "markdown",
   "id": "2506472e",
   "metadata": {},
   "source": [
    "By Slicing"
   ]
  },
  {
   "cell_type": "code",
   "execution_count": 48,
   "id": "544569b1",
   "metadata": {},
   "outputs": [
    {
     "data": {
      "text/plain": [
       "['apple', 'banana', 'mango']"
      ]
     },
     "execution_count": 48,
     "metadata": {},
     "output_type": "execute_result"
    }
   ],
   "source": [
    "fruits[0:3]\n",
    "#using steps in slicing\n",
    "# fruits[0:5:2]"
   ]
  },
  {
   "cell_type": "markdown",
   "id": "f1896832",
   "metadata": {},
   "source": [
    "Modifying lists"
   ]
  },
  {
   "cell_type": "code",
   "execution_count": 49,
   "id": "3d3c4375",
   "metadata": {},
   "outputs": [
    {
     "data": {
      "text/plain": [
       "['apple', 'banana', 'mango', 'pineapple']"
      ]
     },
     "execution_count": 49,
     "metadata": {},
     "output_type": "execute_result"
    }
   ],
   "source": [
    "#Add a new fruit at the end\n",
    "fruits.append('pineapple')\n",
    "fruits"
   ]
  },
  {
   "cell_type": "code",
   "execution_count": 50,
   "id": "d3051010",
   "metadata": {},
   "outputs": [
    {
     "data": {
      "text/plain": [
       "['apple', 'banana', 'mango', 'pineapple', 'kiwi']"
      ]
     },
     "execution_count": 50,
     "metadata": {},
     "output_type": "execute_result"
    }
   ],
   "source": [
    "# Add a new fruit at an index\n",
    "fruits.insert(4, 'kiwi')\n",
    "fruits"
   ]
  },
  {
   "cell_type": "code",
   "execution_count": null,
   "id": "68ffa18d",
   "metadata": {},
   "outputs": [
    {
     "ename": "ValueError",
     "evalue": "list.remove(x): x not in list",
     "output_type": "error",
     "traceback": [
      "\u001b[31m---------------------------------------------------------------------------\u001b[39m",
      "\u001b[31mValueError\u001b[39m                                Traceback (most recent call last)",
      "\u001b[36mCell\u001b[39m\u001b[36m \u001b[39m\u001b[32mIn[51]\u001b[39m\u001b[32m, line 2\u001b[39m\n\u001b[32m      1\u001b[39m \u001b[38;5;66;03m# remove an element from the list\u001b[39;00m\n\u001b[32m----> \u001b[39m\u001b[32m2\u001b[39m \u001b[43mfruits\u001b[49m\u001b[43m.\u001b[49m\u001b[43mremove\u001b[49m\u001b[43m(\u001b[49m\u001b[33;43m'\u001b[39;49m\u001b[33;43mKiwi\u001b[39;49m\u001b[33;43m'\u001b[39;49m\u001b[43m)\u001b[49m\n\u001b[32m      3\u001b[39m fruits\n",
      "\u001b[31mValueError\u001b[39m: list.remove(x): x not in list"
     ]
    }
   ],
   "source": [
    "# remove an element from the list\n",
    "fruits.remove('kiwi')\n",
    "fruits"
   ]
  }
 ],
 "metadata": {
  "kernelspec": {
   "display_name": "env",
   "language": "python",
   "name": "python3"
  },
  "language_info": {
   "codemirror_mode": {
    "name": "ipython",
    "version": 3
   },
   "file_extension": ".py",
   "mimetype": "text/x-python",
   "name": "python",
   "nbconvert_exporter": "python",
   "pygments_lexer": "ipython3",
   "version": "3.13.3"
  }
 },
 "nbformat": 4,
 "nbformat_minor": 5
}
