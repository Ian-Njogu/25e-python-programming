{
 "cells": [
  {
   "cell_type": "markdown",
   "id": "44e4baf7",
   "metadata": {},
   "source": [
    "A dictionary is an unorderd, mutable and indexed collection of key-value pairs.\n",
    "    Keys must be unique and immutable\n",
    "    values can be of any type"
   ]
  },
  {
   "cell_type": "markdown",
   "id": "95051c83",
   "metadata": {},
   "source": [
    "Creating a Dictionary"
   ]
  },
  {
   "cell_type": "code",
   "execution_count": null,
   "id": "92fe98b6",
   "metadata": {},
   "outputs": [],
   "source": [
    "#Empty dictionary\n",
    "empty_dic = ()"
   ]
  },
  {
   "cell_type": "code",
   "execution_count": 1,
   "id": "77561696",
   "metadata": {},
   "outputs": [
    {
     "data": {
      "text/plain": [
       "{'name': ['Alicia', 'Johb'], 'age': [20, 30], 'grade': ['A', 'B']}"
      ]
     },
     "execution_count": 1,
     "metadata": {},
     "output_type": "execute_result"
    }
   ],
   "source": [
    "student = {\n",
    "    'name': [\"Alicia\", \"Johb\"],\n",
    "    'age': [20, 30],\n",
    "    'grade': [\"A\", \"B\"]\n",
    "}\n",
    "student"
   ]
  },
  {
   "cell_type": "markdown",
   "id": "76af583d",
   "metadata": {},
   "source": [
    "Accessing Dictionary values"
   ]
  },
  {
   "cell_type": "code",
   "execution_count": 2,
   "id": "0a4ef014",
   "metadata": {},
   "outputs": [
    {
     "name": "stdout",
     "output_type": "stream",
     "text": [
      "['Alicia', 'Johb']\n"
     ]
    }
   ],
   "source": [
    "#Access by key\n",
    "print(student['name'])"
   ]
  },
  {
   "cell_type": "code",
   "execution_count": 3,
   "id": "f365bf61",
   "metadata": {},
   "outputs": [
    {
     "name": "stdout",
     "output_type": "stream",
     "text": [
      "[20, 30]\n",
      "['Alicia', 'Johb']\n"
     ]
    }
   ],
   "source": [
    "#Using get() (safe access)\n",
    "print(student.get('age'))\n",
    "print(student.get('name'))"
   ]
  },
  {
   "cell_type": "code",
   "execution_count": 4,
   "id": "390c10f2",
   "metadata": {},
   "outputs": [
    {
     "data": {
      "text/plain": [
       "'Johb'"
      ]
     },
     "execution_count": 4,
     "metadata": {},
     "output_type": "execute_result"
    }
   ],
   "source": [
    "#Accessing a specific value using the index\n",
    "student['name'][1]"
   ]
  },
  {
   "cell_type": "code",
   "execution_count": 5,
   "id": "ef4c83ec",
   "metadata": {},
   "outputs": [
    {
     "data": {
      "text/plain": [
       "dict_keys(['name', 'age', 'grade'])"
      ]
     },
     "execution_count": 5,
     "metadata": {},
     "output_type": "execute_result"
    }
   ],
   "source": [
    "#Accessing all elements in a dictionary\n",
    "student.keys()"
   ]
  },
  {
   "cell_type": "code",
   "execution_count": null,
   "id": "04169a97",
   "metadata": {},
   "outputs": [],
   "source": []
  },
  {
   "cell_type": "markdown",
   "id": "c700b3cf",
   "metadata": {},
   "source": [
    "Updating and adding items"
   ]
  },
  {
   "cell_type": "code",
   "execution_count": 9,
   "id": "d9cccef9",
   "metadata": {},
   "outputs": [],
   "source": [
    "#Update the age of 'Alice'\n",
    "student.update({'age':27})"
   ]
  }
 ],
 "metadata": {
  "kernelspec": {
   "display_name": "env",
   "language": "python",
   "name": "python3"
  },
  "language_info": {
   "codemirror_mode": {
    "name": "ipython",
    "version": 3
   },
   "file_extension": ".py",
   "mimetype": "text/x-python",
   "name": "python",
   "nbconvert_exporter": "python",
   "pygments_lexer": "ipython3",
   "version": "3.13.3"
  }
 },
 "nbformat": 4,
 "nbformat_minor": 5
}
