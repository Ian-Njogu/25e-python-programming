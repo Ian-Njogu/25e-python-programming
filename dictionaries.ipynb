{
 "cells": [
  {
   "cell_type": "markdown",
   "id": "44e4baf7",
   "metadata": {},
   "source": [
    "A dictionary is an unorderd, mutable and indexed collection of key-value pairs.\n",
    "    Keys must be unique and immutable\n",
    "    values can be of any type"
   ]
  },
  {
   "cell_type": "markdown",
   "id": "95051c83",
   "metadata": {},
   "source": [
    "Creating a Dictionary"
   ]
  },
  {
   "cell_type": "code",
   "execution_count": null,
   "id": "92fe98b6",
   "metadata": {},
   "outputs": [],
   "source": [
    "#Empty dictionary\n",
    "empty_dic = ()"
   ]
  },
  {
   "cell_type": "code",
   "execution_count": 1,
   "id": "77561696",
   "metadata": {},
   "outputs": [
    {
     "data": {
      "text/plain": [
       "{'name': ['Alicia', 'Johb'], 'age': [20, 30], 'grade': ['A', 'B']}"
      ]
     },
     "execution_count": 1,
     "metadata": {},
     "output_type": "execute_result"
    }
   ],
   "source": [
    "student = {\n",
    "    'name': [\"Alicia\", \"Johb\"],\n",
    "    'age': [20, 30],\n",
    "    'grade': [\"A\", \"B\"]\n",
    "}\n",
    "student"
   ]
  },
  {
   "cell_type": "markdown",
   "id": "76af583d",
   "metadata": {},
   "source": [
    "Accessing Dictionary values"
   ]
  },
  {
   "cell_type": "code",
   "execution_count": 2,
   "id": "0a4ef014",
   "metadata": {},
   "outputs": [
    {
     "name": "stdout",
     "output_type": "stream",
     "text": [
      "['Alicia', 'Johb']\n"
     ]
    }
   ],
   "source": [
    "#Access by key\n",
    "print(student['name'])"
   ]
  },
  {
   "cell_type": "code",
   "execution_count": 3,
   "id": "f365bf61",
   "metadata": {},
   "outputs": [
    {
     "name": "stdout",
     "output_type": "stream",
     "text": [
      "[20, 30]\n",
      "['Alicia', 'Johb']\n"
     ]
    }
   ],
   "source": [
    "#Using get() (safe access)\n",
    "print(student.get('age'))\n",
    "print(student.get('name'))"
   ]
  },
  {
   "cell_type": "code",
   "execution_count": 4,
   "id": "390c10f2",
   "metadata": {},
   "outputs": [
    {
     "data": {
      "text/plain": [
       "'Johb'"
      ]
     },
     "execution_count": 4,
     "metadata": {},
     "output_type": "execute_result"
    }
   ],
   "source": [
    "#Accessing a specific value using the index\n",
    "student['name'][1]"
   ]
  },
  {
   "cell_type": "code",
   "execution_count": 5,
   "id": "ef4c83ec",
   "metadata": {},
   "outputs": [
    {
     "data": {
      "text/plain": [
       "dict_keys(['name', 'age', 'grade'])"
      ]
     },
     "execution_count": 5,
     "metadata": {},
     "output_type": "execute_result"
    }
   ],
   "source": [
    "#Accessing all elements in a dictionary\n",
    "student.keys()"
   ]
  },
  {
   "cell_type": "markdown",
   "id": "c700b3cf",
   "metadata": {},
   "source": [
    "Updating and adding items"
   ]
  },
  {
   "cell_type": "code",
   "execution_count": 9,
   "id": "d9cccef9",
   "metadata": {},
   "outputs": [],
   "source": [
    "#Update the age of 'Alice'\n",
    "student.update({'age':27})"
   ]
  },
  {
   "cell_type": "markdown",
   "id": "b5214ec5",
   "metadata": {},
   "source": [
    "*ASSIGNMENT*"
   ]
  },
  {
   "cell_type": "code",
   "execution_count": 3,
   "id": "99db6fd6",
   "metadata": {},
   "outputs": [],
   "source": [
    "#Empty dictionary\n",
    "products = {}"
   ]
  },
  {
   "cell_type": "code",
   "execution_count": null,
   "id": "fb51d8cd",
   "metadata": {},
   "outputs": [
    {
     "data": {
      "text/plain": [
       "{'book': {'price': 20.0, 'quantity': 2}, 'bo': {'price': 2.0, 'quantity': 2}}"
      ]
     },
     "execution_count": 7,
     "metadata": {},
     "output_type": "execute_result"
    }
   ],
   "source": [
    "#function to add product to the dictionary\n",
    "def add_or_update_products():\n",
    "    name = input(\"Enter product name: \")\n",
    "    price = float(input(\"Enter product price: \"))\n",
    "    quantity = int(input(\"Enter product quantity\"))\n",
    "\n",
    "    products.update({name: {'price': price, 'quantity': quantity}})\n"
   ]
  },
  {
   "cell_type": "code",
   "execution_count": 12,
   "id": "027f34c7",
   "metadata": {},
   "outputs": [],
   "source": [
    "#Function to remove product\n",
    "def remove_product():\n",
    "    name = input(\"Input product to remove\")\n",
    "\n",
    "    removed = products.pop(name, None)\n",
    "    if removed:\n",
    "        print(f\"{name} has been removed\")\n",
    "    else:\n",
    "        print(f\"{name} not found\")    \n"
   ]
  },
  {
   "cell_type": "code",
   "execution_count": 13,
   "id": "58663162",
   "metadata": {},
   "outputs": [
    {
     "name": "stdout",
     "output_type": "stream",
     "text": [
      "Product menu\n",
      "1. Add or update products\n",
      "2. remove product\n",
      "3. Exit\n",
      "car has been removed\n"
     ]
    }
   ],
   "source": [
    "#Function to run the code\n",
    "def main():\n",
    "    while True:\n",
    "        print(\"Product menu\")\n",
    "        print(\"1. Add or update products\")\n",
    "        print(\"2. remove product\")\n",
    "        print(\"3. Exit\")\n",
    "\n",
    "        choice = input(\"Enter choice from 1-3\")\n",
    "        if choice == '1':\n",
    "            add_or_update_products()\n",
    "            products\n",
    "            break\n",
    "        elif choice == '2':\n",
    "            remove_product()\n",
    "            products\n",
    "            break\n",
    "        elif choice == '3':\n",
    "            products\n",
    "            break\n",
    "        else:\n",
    "            print(\"Invalid choice\")\n",
    "        \n",
    "        products\n",
    "\n",
    "main()\n"
   ]
  }
 ],
 "metadata": {
  "kernelspec": {
   "display_name": "env",
   "language": "python",
   "name": "python3"
  },
  "language_info": {
   "codemirror_mode": {
    "name": "ipython",
    "version": 3
   },
   "file_extension": ".py",
   "mimetype": "text/x-python",
   "name": "python",
   "nbconvert_exporter": "python",
   "pygments_lexer": "ipython3",
   "version": "3.13.3"
  }
 },
 "nbformat": 4,
 "nbformat_minor": 5
}
