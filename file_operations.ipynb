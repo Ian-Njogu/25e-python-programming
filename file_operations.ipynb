{
 "cells": [
  {
   "cell_type": "markdown",
   "id": "0ddd5937",
   "metadata": {},
   "source": [
    "File Operations in Python\n",
    "Common use cases for this skill.\n",
    "\n",
    "1.saving the output of a program beyond the console computing\n",
    "2. Reading data for analysis\n",
    "3. Text processing\n",
    "\n",
    "Opening files in python (in different modes)"
   ]
  },
  {
   "cell_type": "code",
   "execution_count": 1,
   "id": "e2f75cf2",
   "metadata": {},
   "outputs": [
    {
     "data": {
      "text/plain": [
       "<_io.TextIOWrapper name='anthem.txt' mode='r' encoding='cp1252'>"
      ]
     },
     "execution_count": 1,
     "metadata": {},
     "output_type": "execute_result"
    }
   ],
   "source": [
    "anthem = open('anthem.txt', 'r')\n",
    "\n",
    "anthem"
   ]
  },
  {
   "cell_type": "markdown",
   "id": "bdbee667",
   "metadata": {},
   "source": [
    "open the file, then use the read() method to read the contents of the file"
   ]
  },
  {
   "cell_type": "code",
   "execution_count": 8,
   "id": "64752804",
   "metadata": {},
   "outputs": [
    {
     "name": "stdout",
     "output_type": "stream",
     "text": [
      "Oh God of all creation,\n",
      "Bless this our land and nation,\n",
      "Justice be our shield and defender,\n",
      "May we dwell in unity,\n",
      "Peace and liberty,\n"
     ]
    }
   ],
   "source": [
    "anthem = open('anthem.txt', 'r')\n",
    "print(anthem.read())\n",
    "anthem.close()"
   ]
  },
  {
   "cell_type": "code",
   "execution_count": 3,
   "id": "7e1d7fac",
   "metadata": {},
   "outputs": [
    {
     "name": "stdout",
     "output_type": "stream",
     "text": [
      "Oh God of all creation,\n",
      "Bless this our land and nation,\n",
      "Justice be our shield and defender,\n",
      "May we dwell in unity,\n",
      "Peace and liberty,\n"
     ]
    }
   ],
   "source": [
    "with open('anthem.txt', 'r') as file:\n",
    "    content = file.read()\n",
    "    print(content)"
   ]
  },
  {
   "cell_type": "markdown",
   "id": "6807a4e2",
   "metadata": {},
   "source": [
    "Other ways apart from read()"
   ]
  },
  {
   "cell_type": "code",
   "execution_count": 10,
   "id": "e3876b8e",
   "metadata": {},
   "outputs": [
    {
     "name": "stdout",
     "output_type": "stream",
     "text": [
      "Oh God of all creation,\n",
      "\n",
      "Bless this our land and nation,\n",
      "\n"
     ]
    }
   ],
   "source": [
    "#readline()-reads the first line\n",
    "\n",
    "with open('anthem.txt', 'r') as file:\n",
    "    line = file.readline()\n",
    "    line2 = file.readline()\n",
    "\n",
    "    print(line)\n",
    "    print(line2)"
   ]
  },
  {
   "cell_type": "code",
   "execution_count": 11,
   "id": "582ebcad",
   "metadata": {},
   "outputs": [
    {
     "name": "stdout",
     "output_type": "stream",
     "text": [
      "['Oh God of all creation,\\n', 'Bless this our land and nation,\\n', 'Justice be our shield and defender,\\n', 'May we dwell in unity,\\n', 'Peace and liberty,']\n"
     ]
    }
   ],
   "source": [
    "with open('anthem.txt', 'r') as file:\n",
    "    lines = file.readlines()\n",
    "    print(lines)"
   ]
  },
  {
   "cell_type": "code",
   "execution_count": 12,
   "id": "ced51fc8",
   "metadata": {},
   "outputs": [
    {
     "name": "stdout",
     "output_type": "stream",
     "text": [
      "Oh God of all creation,\n",
      "\n",
      "Bless this our land and nation,\n",
      "\n",
      "Justice be our shield and defender,\n",
      "\n",
      "May we dwell in unity,\n",
      "\n",
      "Peace and liberty,\n"
     ]
    }
   ],
   "source": [
    "for line in lines:\n",
    "    print(line)"
   ]
  },
  {
   "cell_type": "markdown",
   "id": "d4ef0216",
   "metadata": {},
   "source": [
    "Writing Operations in Python"
   ]
  },
  {
   "cell_type": "code",
   "execution_count": null,
   "id": "ab833f9c",
   "metadata": {},
   "outputs": [],
   "source": [
    "# write() method... 'w'\n",
    "with open('anthem.txt', 'w') as file:\n",
    "    file.write('Plenty be found')"
   ]
  },
  {
   "cell_type": "code",
   "execution_count": null,
   "id": "d9c2dfde",
   "metadata": {},
   "outputs": [],
   "source": [
    "# read and write (preserve) 'r+'\n",
    "with open('anthem3.txt', 'r+') as file:\n",
    "    file.write('within our borders')"
   ]
  },
  {
   "cell_type": "code",
   "execution_count": null,
   "id": "f53598ce",
   "metadata": {},
   "outputs": [],
   "source": [
    "# write and read 'w+'\n",
    "with open('anthem.txt', 'w+') as file:\n",
    "    file.write(\"Some new content here\")\n",
    "    print(file.read())"
   ]
  },
  {
   "cell_type": "code",
   "execution_count": 15,
   "id": "0ad97c44",
   "metadata": {},
   "outputs": [],
   "source": [
    "#append mode updates your content\n",
    "with open('anthem.txt', 'a') as file:\n",
    "    file.write(\"Let one and all arise\")"
   ]
  },
  {
   "cell_type": "code",
   "execution_count": null,
   "id": "0b269a91",
   "metadata": {},
   "outputs": [
    {
     "name": "stdout",
     "output_type": "stream",
     "text": [
      "\n"
     ]
    }
   ],
   "source": [
    "#append and read\n",
    "with open('anthem.txt', 'a+') as file:\n",
    "    file.write(\"Let one and all arise\")\n",
    "    file.seek(0)\n",
    "    print(file.read())"
   ]
  },
  {
   "cell_type": "code",
   "execution_count": 18,
   "id": "d7c18edb",
   "metadata": {},
   "outputs": [],
   "source": [
    "#writelines()\n",
    "names = ['quasi\\n', 'andy\\n', 'clare\\n', 'michael']\n",
    "\n",
    "with open('names.txt', 'w') as file:\n",
    "    file.writelines(names)"
   ]
  },
  {
   "cell_type": "markdown",
   "id": "8ed0f6f1",
   "metadata": {},
   "source": [
    "### Copying content from one file to another"
   ]
  },
  {
   "cell_type": "code",
   "execution_count": 19,
   "id": "118c1995",
   "metadata": {},
   "outputs": [],
   "source": [
    "with open('names.txt', 'r') as source_file:\n",
    "    content = source_file.read()\n",
    "\n",
    "with open('names_backup.txt', 'w') as backup_file:\n",
    "    backup_file.write(content)"
   ]
  }
 ],
 "metadata": {
  "kernelspec": {
   "display_name": "env",
   "language": "python",
   "name": "python3"
  },
  "language_info": {
   "codemirror_mode": {
    "name": "ipython",
    "version": 3
   },
   "file_extension": ".py",
   "mimetype": "text/x-python",
   "name": "python",
   "nbconvert_exporter": "python",
   "pygments_lexer": "ipython3",
   "version": "3.13.3"
  }
 },
 "nbformat": 4,
 "nbformat_minor": 5
}
