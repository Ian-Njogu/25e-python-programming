{
 "cells": [
  {
   "cell_type": "markdown",
   "id": "1aec8571",
   "metadata": {},
   "source": [
    "#### Strings and working with strings in python\n",
    "\n",
    "String indexing and slicing \n",
    "\n",
    "Basic string operations"
   ]
  },
  {
   "cell_type": "code",
   "execution_count": null,
   "id": "9b8e063a",
   "metadata": {},
   "outputs": [],
   "source": [
    "#Concatenating strings\n",
    "#Repetition\n",
    "#membership"
   ]
  },
  {
   "cell_type": "code",
   "execution_count": 1,
   "id": "696c759d",
   "metadata": {},
   "outputs": [
    {
     "data": {
      "text/plain": [
       "'mercy'"
      ]
     },
     "execution_count": 1,
     "metadata": {},
     "output_type": "execute_result"
    }
   ],
   "source": [
    "name = 'Mercy'\n",
    "x = name.replace('M', 'm')\n",
    "x"
   ]
  },
  {
   "cell_type": "code",
   "execution_count": 2,
   "id": "b23ef230",
   "metadata": {},
   "outputs": [
    {
     "data": {
      "text/plain": [
       "'ss'"
      ]
     },
     "execution_count": 2,
     "metadata": {},
     "output_type": "execute_result"
    }
   ],
   "source": [
    "name = 'Jesse'\n",
    "#x[start:stop:step]\n",
    "name[2:4]\n"
   ]
  },
  {
   "cell_type": "code",
   "execution_count": 6,
   "id": "da992458",
   "metadata": {},
   "outputs": [
    {
     "data": {
      "text/plain": [
       "'eooi'"
      ]
     },
     "execution_count": 6,
     "metadata": {},
     "output_type": "execute_result"
    }
   ],
   "source": [
    "s = 'economics'\n",
    "s[:8:2]"
   ]
  },
  {
   "cell_type": "code",
   "execution_count": 9,
   "id": "afc52486",
   "metadata": {},
   "outputs": [
    {
     "data": {
      "text/plain": [
       "'Ian Njogu'"
      ]
     },
     "execution_count": 9,
     "metadata": {},
     "output_type": "execute_result"
    }
   ],
   "source": [
    "first_name = 'Ian'\n",
    "second_name = 'Njogu'\n",
    "full_name = first_name + ' ' + second_name\n",
    "full_name"
   ]
  },
  {
   "cell_type": "code",
   "execution_count": 10,
   "id": "7d0d398b",
   "metadata": {},
   "outputs": [
    {
     "name": "stdout",
     "output_type": "stream",
     "text": [
      "ha ha ha \n"
     ]
    }
   ],
   "source": [
    "print(\"ha \"*3)\n"
   ]
  },
  {
   "cell_type": "code",
   "execution_count": 12,
   "id": "f32f88a0",
   "metadata": {},
   "outputs": [
    {
     "name": "stdout",
     "output_type": "stream",
     "text": [
      "True\n"
     ]
    }
   ],
   "source": [
    "print('a' in \"aus\")"
   ]
  },
  {
   "cell_type": "markdown",
   "id": "1913a3ab",
   "metadata": {},
   "source": [
    "### Some useful  string methods"
   ]
  },
  {
   "cell_type": "code",
   "execution_count": 13,
   "id": "3f542690",
   "metadata": {},
   "outputs": [
    {
     "name": "stdout",
     "output_type": "stream",
     "text": [
      "I love python programming\n"
     ]
    }
   ],
   "source": [
    "#casing operations\n",
    "sentence = \"i love python programming\"\n",
    "print(sentence.capitalize())"
   ]
  },
  {
   "cell_type": "code",
   "execution_count": 14,
   "id": "31cc0409",
   "metadata": {},
   "outputs": [
    {
     "name": "stdout",
     "output_type": "stream",
     "text": [
      "['I', 'love', 'python', 'programming']\n"
     ]
    }
   ],
   "source": [
    "sentence = \"I love python programming\"\n",
    "print(sentence.split())"
   ]
  },
  {
   "cell_type": "code",
   "execution_count": 15,
   "id": "7c23584f",
   "metadata": {},
   "outputs": [
    {
     "name": "stdout",
     "output_type": "stream",
     "text": [
      "['We are going home', ' my home is in Embu']\n"
     ]
    }
   ],
   "source": [
    "sentence = \"We are going home, my home is in Embu\"\n",
    "print(sentence.split(\",\"))"
   ]
  },
  {
   "cell_type": "code",
   "execution_count": 16,
   "id": "e9eeacb2",
   "metadata": {},
   "outputs": [
    {
     "name": "stdout",
     "output_type": "stream",
     "text": [
      "2025-06-07\n"
     ]
    }
   ],
   "source": [
    "print(\"-\".join(['2025', '06', '07']))"
   ]
  },
  {
   "cell_type": "markdown",
   "id": "88a225c5",
   "metadata": {},
   "source": [
    "#### Extracting substrings from strings\n"
   ]
  },
  {
   "cell_type": "code",
   "execution_count": null,
   "id": "2ca3d51f",
   "metadata": {},
   "outputs": [],
   "source": [
    "#From stephen.marquad@ uct.ac.za Sat Jan 5 09:14:16 2008"
   ]
  },
  {
   "cell_type": "code",
   "execution_count": 17,
   "id": "1de9d202",
   "metadata": {},
   "outputs": [
    {
     "data": {
      "text/plain": [
       "['From',\n",
       " 'stephen.marquad@',\n",
       " 'uct.ac.za',\n",
       " 'Sat',\n",
       " 'Jan',\n",
       " '5',\n",
       " '09:14:16',\n",
       " '2008']"
      ]
     },
     "execution_count": 17,
     "metadata": {},
     "output_type": "execute_result"
    }
   ],
   "source": [
    "line = \"From stephen.marquad@ uct.ac.za Sat Jan 5 09:14:16 2008\"\n",
    "words = line.split()\n",
    "words"
   ]
  },
  {
   "cell_type": "code",
   "execution_count": 18,
   "id": "6720a91f",
   "metadata": {},
   "outputs": [
    {
     "data": {
      "text/plain": [
       "'stephen.marquad@'"
      ]
     },
     "execution_count": 18,
     "metadata": {},
     "output_type": "execute_result"
    }
   ],
   "source": [
    "email = words[1]\n",
    "email"
   ]
  },
  {
   "cell_type": "code",
   "execution_count": 19,
   "id": "2f1b0180",
   "metadata": {},
   "outputs": [
    {
     "data": {
      "text/plain": [
       "15"
      ]
     },
     "execution_count": 19,
     "metadata": {},
     "output_type": "execute_result"
    }
   ],
   "source": [
    "at_index = email.find('@')\n",
    "at_index"
   ]
  },
  {
   "cell_type": "code",
   "execution_count": 21,
   "id": "b5684a67",
   "metadata": {},
   "outputs": [
    {
     "data": {
      "text/plain": [
       "'stephen.marquad'"
      ]
     },
     "execution_count": 21,
     "metadata": {},
     "output_type": "execute_result"
    }
   ],
   "source": [
    "sender_name = email[:15]\n",
    "sender_name"
   ]
  },
  {
   "cell_type": "code",
   "execution_count": 28,
   "id": "b4086baa",
   "metadata": {},
   "outputs": [
    {
     "data": {
      "text/plain": [
       "'Jan'"
      ]
     },
     "execution_count": 28,
     "metadata": {},
     "output_type": "execute_result"
    }
   ],
   "source": [
    "month_sent = words[4]\n",
    "\n",
    "month_sent"
   ]
  },
  {
   "cell_type": "code",
   "execution_count": 30,
   "id": "b2efeb0f",
   "metadata": {},
   "outputs": [
    {
     "data": {
      "text/plain": [
       "'Sat'"
      ]
     },
     "execution_count": 30,
     "metadata": {},
     "output_type": "execute_result"
    }
   ],
   "source": [
    "day_sent = words[3]\n",
    "day_sent"
   ]
  },
  {
   "cell_type": "code",
   "execution_count": 41,
   "id": "60ad547a",
   "metadata": {},
   "outputs": [
    {
     "name": "stdout",
     "output_type": "stream",
     "text": [
      "20\n",
      "zindua.tech\n"
     ]
    }
   ],
   "source": [
    "#We have the following email and timestamps\n",
    "\n",
    "line = \" From mercy.nmwangi@zindua.tech Sat Jun 7 11:13:00 25\"\n",
    "\n",
    "index_z = line.find(\"z\")\n",
    "\n",
    "print(index_z)\n",
    "\n",
    "org = line[20:31]\n",
    "print(org)"
   ]
  },
  {
   "cell_type": "markdown",
   "id": "df4c0631",
   "metadata": {},
   "source": [
    "#### Regular Expressions"
   ]
  },
  {
   "cell_type": "code",
   "execution_count": 42,
   "id": "dc16da1a",
   "metadata": {},
   "outputs": [
    {
     "name": "stdout",
     "output_type": "stream",
     "text": [
      "['4', '5', '2', '0', '2', '3']\n"
     ]
    }
   ],
   "source": [
    "#character classes- match specific types or sets of characters\n",
    "#\\d- matches any digits(0-9)\n",
    "import re\n",
    "print(re.findall(r'\\d', 'order 45 was placed in 2023'))"
   ]
  },
  {
   "cell_type": "code",
   "execution_count": 43,
   "id": "a5a96241",
   "metadata": {},
   "outputs": [
    {
     "name": "stdout",
     "output_type": "stream",
     "text": [
      "['Welcome', 'to', '_', 'Python3']\n"
     ]
    }
   ],
   "source": [
    "#w+ matches any word character\n",
    "print(re.findall(r'\\w+', 'Welcome to _ Python3 !'))"
   ]
  },
  {
   "cell_type": "code",
   "execution_count": 44,
   "id": "f4b0a926",
   "metadata": {},
   "outputs": [
    {
     "name": "stdout",
     "output_type": "stream",
     "text": [
      "[' ', '\\n', '\\t']\n"
     ]
    }
   ],
   "source": [
    "#matches whitespaces, escape characters\n",
    "print(re.findall(r'\\s', 'Hello world\\ngoodbye\\tworld'))"
   ]
  },
  {
   "cell_type": "code",
   "execution_count": 45,
   "id": "40baa33e",
   "metadata": {},
   "outputs": [
    {
     "name": "stdout",
     "output_type": "stream",
     "text": [
      "['e', 'o', 'o', 'd']\n"
     ]
    }
   ],
   "source": [
    "# [...] matches any character in the bracket\n",
    "print(re.findall(r'[aeioud]', 'Hello world'))\n"
   ]
  },
  {
   "cell_type": "code",
   "execution_count": 47,
   "id": "3cdba0ef",
   "metadata": {},
   "outputs": [
    {
     "name": "stdout",
     "output_type": "stream",
     "text": [
      "['12', '4', '300']\n"
     ]
    }
   ],
   "source": [
    "# quantifiers - they control how many times the character can appear\n",
    "# \\d+- digits appear one or more times\n",
    "print(re.findall(r'\\d+', 'We have 12 cows, 4 goats and 300 chickens'))"
   ]
  },
  {
   "cell_type": "code",
   "execution_count": 49,
   "id": "a3b667f4",
   "metadata": {},
   "outputs": [
    {
     "name": "stdout",
     "output_type": "stream",
     "text": [
      "['color', 'colour']\n"
     ]
    }
   ],
   "source": [
    "# ? zero or one\n",
    "print(re.findall(r'colou?r', 'color and colour are both valid'))"
   ]
  },
  {
   "cell_type": "code",
   "execution_count": 50,
   "id": "f12a5b4b",
   "metadata": {},
   "outputs": [
    {
     "name": "stdout",
     "output_type": "stream",
     "text": [
      "['abb', 'ab', 'a', 'abbb', 'ab']\n"
     ]
    }
   ],
   "source": [
    "# * match an a, followed by zero or more bs\n",
    "print(re.findall(r'ab*', 'abb ab a abbb abc'))"
   ]
  },
  {
   "cell_type": "code",
   "execution_count": 51,
   "id": "dc199214",
   "metadata": {},
   "outputs": [
    {
     "name": "stdout",
     "output_type": "stream",
     "text": [
      "['2025']\n"
     ]
    }
   ],
   "source": [
    "# {m} m-times\n",
    "print(re.findall(r'\\d{4}', 'My pin is 34 and year is 2025'))"
   ]
  },
  {
   "cell_type": "code",
   "execution_count": 53,
   "id": "74da7eef",
   "metadata": {},
   "outputs": [
    {
     "name": "stdout",
     "output_type": "stream",
     "text": [
      "['2025', '123']\n"
     ]
    }
   ],
   "source": [
    "#{m,n} - between m and n times\n",
    "print(re.findall(r'\\d{2,4}', 'Short: 9, Year: 2025, Code: 123'))\n"
   ]
  },
  {
   "cell_type": "code",
   "execution_count": 54,
   "id": "51bddbef",
   "metadata": {},
   "outputs": [
    {
     "name": "stdout",
     "output_type": "stream",
     "text": [
      "['Hello']\n"
     ]
    }
   ],
   "source": [
    "#Anchors- they specify the position and not the matching pattern\n",
    "#^ -start of a string\n",
    "print(re.findall(r'^Hello', 'Hello world!'))"
   ]
  },
  {
   "cell_type": "code",
   "execution_count": 55,
   "id": "52ec022d",
   "metadata": {},
   "outputs": [
    {
     "name": "stdout",
     "output_type": "stream",
     "text": [
      "['world!']\n"
     ]
    }
   ],
   "source": [
    "#$ end of a string\n",
    "print(re.findall(r'world!$', 'Hello world!'))"
   ]
  },
  {
   "cell_type": "code",
   "execution_count": 56,
   "id": "e2428566",
   "metadata": {},
   "outputs": [
    {
     "name": "stdout",
     "output_type": "stream",
     "text": [
      "['cat']\n"
     ]
    }
   ],
   "source": [
    "#\\b - word boundary- used for exact matches\n",
    "text = \"A cat on the catalog\"\n",
    "print(re.findall(r'\\bcat\\b', text))"
   ]
  },
  {
   "cell_type": "markdown",
   "id": "71b6666d",
   "metadata": {},
   "source": [
    "Checking whether a string contains only a set of characters"
   ]
  },
  {
   "cell_type": "code",
   "execution_count": null,
   "id": "7489374f",
   "metadata": {},
   "outputs": [],
   "source": [
    "text = input(\"Enter a string: \")\n",
    "\n",
    "pattern = r'^[a-zA-Z0-9]+$'\n",
    "\n",
    "match= re.fullmatch(pattern, text)\n",
    "\n"
   ]
  },
  {
   "cell_type": "code",
   "execution_count": 57,
   "id": "95722ba0",
   "metadata": {},
   "outputs": [
    {
     "name": "stdout",
     "output_type": "stream",
     "text": [
      "Password is invalid\n"
     ]
    }
   ],
   "source": [
    "password = input(\"Enter a password: \")\n",
    "\n",
    "#Regex explanation- with lookahead asertions\n",
    "# - (?=, *[a-z])   must contain at least one lowercase letter\n",
    "# - (?=, *[A-Z])   must contain at least one uppercase letter\n",
    "# - (?=, *\\d)   must contain at least one digit\n",
    "# - [A-Za-z\\d{8,}]   overall length is 8 or more and contains only letters\n",
    "\n",
    "pattern = r'^(?=,*[a-z])(?=.*[A-Z])(?=.*\\d)[A-Za-z\\d]{8,}$'\n",
    "\n",
    "if re.fullmatch(pattern, password):\n",
    "    print(\"Password is valid\")\n",
    "else:\n",
    "    print(\"Password is invalid\")\n"
   ]
  },
  {
   "cell_type": "code",
   "execution_count": 2,
   "id": "bc1ff63e",
   "metadata": {},
   "outputs": [
    {
     "ename": "NameError",
     "evalue": "name 're' is not defined",
     "output_type": "error",
     "traceback": [
      "\u001b[31m---------------------------------------------------------------------------\u001b[39m",
      "\u001b[31mNameError\u001b[39m                                 Traceback (most recent call last)",
      "\u001b[36mCell\u001b[39m\u001b[36m \u001b[39m\u001b[32mIn[2]\u001b[39m\u001b[32m, line 3\u001b[39m\n\u001b[32m      1\u001b[39m line = \u001b[33m\"\u001b[39m\u001b[33mFrom mercy.mwamgi@zindua.africa sat Jan 5 09:14:16 2025\u001b[39m\u001b[33m\"\u001b[39m\n\u001b[32m----> \u001b[39m\u001b[32m3\u001b[39m match = \u001b[43mre\u001b[49m.search(\u001b[33mr\u001b[39m\u001b[33m'\u001b[39m\u001b[33m@([\u001b[39m\u001b[33m\\\u001b[39m\u001b[33mw\u001b[39m\u001b[33m\\\u001b[39m\u001b[33m.-]+)\u001b[39m\u001b[33m'\u001b[39m, line)\n\u001b[32m      5\u001b[39m \u001b[38;5;28;01mif\u001b[39;00m match:\n\u001b[32m      6\u001b[39m     domain = match.group(\u001b[32m1\u001b[39m)\n",
      "\u001b[31mNameError\u001b[39m: name 're' is not defined"
     ]
    }
   ],
   "source": [
    "line = \"From mercy.mwamgi@zindua.africa sat Jan 5 09:14:16 2025\"\n",
    "\n",
    "match = re.search(r'@([\\w\\.-]+)', line)\n",
    "\n",
    "if match:\n",
    "    domain = match.group(1)\n",
    "    print(\"Domain name:\", domain)\n",
    "else:\n",
    "    print(\"No domain found\")\n"
   ]
  }
 ],
 "metadata": {
  "kernelspec": {
   "display_name": "env",
   "language": "python",
   "name": "python3"
  },
  "language_info": {
   "codemirror_mode": {
    "name": "ipython",
    "version": 3
   },
   "file_extension": ".py",
   "mimetype": "text/x-python",
   "name": "python",
   "nbconvert_exporter": "python",
   "pygments_lexer": "ipython3",
   "version": "3.13.3"
  }
 },
 "nbformat": 4,
 "nbformat_minor": 5
}
