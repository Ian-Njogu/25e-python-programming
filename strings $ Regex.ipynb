{
 "cells": [
  {
   "cell_type": "markdown",
   "id": "1aec8571",
   "metadata": {},
   "source": [
    "#### Strings and working with strings in python\n",
    "\n",
    "String indexing and slicing \n",
    "\n",
    "Basic string operations"
   ]
  },
  {
   "cell_type": "code",
   "execution_count": null,
   "id": "9b8e063a",
   "metadata": {},
   "outputs": [],
   "source": [
    "#Concatenating strings\n",
    "#Repetition\n",
    "#membership"
   ]
  },
  {
   "cell_type": "code",
   "execution_count": 1,
   "id": "696c759d",
   "metadata": {},
   "outputs": [
    {
     "data": {
      "text/plain": [
       "'mercy'"
      ]
     },
     "execution_count": 1,
     "metadata": {},
     "output_type": "execute_result"
    }
   ],
   "source": [
    "name = 'Mercy'\n",
    "x = name.replace('M', 'm')\n",
    "x"
   ]
  },
  {
   "cell_type": "code",
   "execution_count": 2,
   "id": "b23ef230",
   "metadata": {},
   "outputs": [
    {
     "data": {
      "text/plain": [
       "'ss'"
      ]
     },
     "execution_count": 2,
     "metadata": {},
     "output_type": "execute_result"
    }
   ],
   "source": [
    "name = 'Jesse'\n",
    "#x[start:stop:step]\n",
    "name[2:4]\n"
   ]
  },
  {
   "cell_type": "code",
   "execution_count": 6,
   "id": "da992458",
   "metadata": {},
   "outputs": [
    {
     "data": {
      "text/plain": [
       "'eooi'"
      ]
     },
     "execution_count": 6,
     "metadata": {},
     "output_type": "execute_result"
    }
   ],
   "source": [
    "s = 'economics'\n",
    "s[:8:2]"
   ]
  },
  {
   "cell_type": "code",
   "execution_count": 9,
   "id": "afc52486",
   "metadata": {},
   "outputs": [
    {
     "data": {
      "text/plain": [
       "'Ian Njogu'"
      ]
     },
     "execution_count": 9,
     "metadata": {},
     "output_type": "execute_result"
    }
   ],
   "source": [
    "first_name = 'Ian'\n",
    "second_name = 'Njogu'\n",
    "full_name = first_name + ' ' + second_name\n",
    "full_name"
   ]
  },
  {
   "cell_type": "code",
   "execution_count": 10,
   "id": "7d0d398b",
   "metadata": {},
   "outputs": [
    {
     "name": "stdout",
     "output_type": "stream",
     "text": [
      "ha ha ha \n"
     ]
    }
   ],
   "source": [
    "print(\"ha \"*3)\n"
   ]
  },
  {
   "cell_type": "code",
   "execution_count": 12,
   "id": "f32f88a0",
   "metadata": {},
   "outputs": [
    {
     "name": "stdout",
     "output_type": "stream",
     "text": [
      "True\n"
     ]
    }
   ],
   "source": [
    "print('a' in \"aus\")"
   ]
  },
  {
   "cell_type": "markdown",
   "id": "1913a3ab",
   "metadata": {},
   "source": [
    "### Some useful  string methods"
   ]
  },
  {
   "cell_type": "code",
   "execution_count": 13,
   "id": "3f542690",
   "metadata": {},
   "outputs": [
    {
     "name": "stdout",
     "output_type": "stream",
     "text": [
      "I love python programming\n"
     ]
    }
   ],
   "source": [
    "#casing operations\n",
    "sentence = \"i love python programming\"\n",
    "print(sentence.capitalize())"
   ]
  },
  {
   "cell_type": "code",
   "execution_count": 14,
   "id": "31cc0409",
   "metadata": {},
   "outputs": [
    {
     "name": "stdout",
     "output_type": "stream",
     "text": [
      "['I', 'love', 'python', 'programming']\n"
     ]
    }
   ],
   "source": [
    "sentence = \"I love python programming\"\n",
    "print(sentence.split())"
   ]
  },
  {
   "cell_type": "code",
   "execution_count": 15,
   "id": "7c23584f",
   "metadata": {},
   "outputs": [
    {
     "name": "stdout",
     "output_type": "stream",
     "text": [
      "['We are going home', ' my home is in Embu']\n"
     ]
    }
   ],
   "source": [
    "sentence = \"We are going home, my home is in Embu\"\n",
    "print(sentence.split(\",\"))"
   ]
  },
  {
   "cell_type": "code",
   "execution_count": 16,
   "id": "e9eeacb2",
   "metadata": {},
   "outputs": [
    {
     "name": "stdout",
     "output_type": "stream",
     "text": [
      "2025-06-07\n"
     ]
    }
   ],
   "source": [
    "print(\"-\".join(['2025', '06', '07']))"
   ]
  },
  {
   "cell_type": "markdown",
   "id": "88a225c5",
   "metadata": {},
   "source": [
    "#### Extracting substrings from strings\n"
   ]
  },
  {
   "cell_type": "code",
   "execution_count": null,
   "id": "2ca3d51f",
   "metadata": {},
   "outputs": [],
   "source": [
    "#From stephen.marquad@ uct.ac.za Sat Jan 5 09:14:16 2008"
   ]
  },
  {
   "cell_type": "code",
   "execution_count": 17,
   "id": "1de9d202",
   "metadata": {},
   "outputs": [
    {
     "data": {
      "text/plain": [
       "['From',\n",
       " 'stephen.marquad@',\n",
       " 'uct.ac.za',\n",
       " 'Sat',\n",
       " 'Jan',\n",
       " '5',\n",
       " '09:14:16',\n",
       " '2008']"
      ]
     },
     "execution_count": 17,
     "metadata": {},
     "output_type": "execute_result"
    }
   ],
   "source": [
    "line = \"From stephen.marquad@ uct.ac.za Sat Jan 5 09:14:16 2008\"\n",
    "words = line.split()\n",
    "words"
   ]
  },
  {
   "cell_type": "code",
   "execution_count": 18,
   "id": "6720a91f",
   "metadata": {},
   "outputs": [
    {
     "data": {
      "text/plain": [
       "'stephen.marquad@'"
      ]
     },
     "execution_count": 18,
     "metadata": {},
     "output_type": "execute_result"
    }
   ],
   "source": [
    "email = words[1]\n",
    "email"
   ]
  },
  {
   "cell_type": "code",
   "execution_count": 19,
   "id": "2f1b0180",
   "metadata": {},
   "outputs": [
    {
     "data": {
      "text/plain": [
       "15"
      ]
     },
     "execution_count": 19,
     "metadata": {},
     "output_type": "execute_result"
    }
   ],
   "source": [
    "at_index = email.find('@')\n",
    "at_index"
   ]
  },
  {
   "cell_type": "code",
   "execution_count": 21,
   "id": "b5684a67",
   "metadata": {},
   "outputs": [
    {
     "data": {
      "text/plain": [
       "'stephen.marquad'"
      ]
     },
     "execution_count": 21,
     "metadata": {},
     "output_type": "execute_result"
    }
   ],
   "source": [
    "sender_name = email[:15]\n",
    "sender_name"
   ]
  },
  {
   "cell_type": "code",
   "execution_count": 28,
   "id": "b4086baa",
   "metadata": {},
   "outputs": [
    {
     "data": {
      "text/plain": [
       "'Jan'"
      ]
     },
     "execution_count": 28,
     "metadata": {},
     "output_type": "execute_result"
    }
   ],
   "source": [
    "month_sent = words[4]\n",
    "\n",
    "month_sent"
   ]
  },
  {
   "cell_type": "code",
   "execution_count": 30,
   "id": "b2efeb0f",
   "metadata": {},
   "outputs": [
    {
     "data": {
      "text/plain": [
       "'Sat'"
      ]
     },
     "execution_count": 30,
     "metadata": {},
     "output_type": "execute_result"
    }
   ],
   "source": [
    "day_sent = words[3]\n",
    "day_sent"
   ]
  }
 ],
 "metadata": {
  "kernelspec": {
   "display_name": "env",
   "language": "python",
   "name": "python3"
  },
  "language_info": {
   "codemirror_mode": {
    "name": "ipython",
    "version": 3
   },
   "file_extension": ".py",
   "mimetype": "text/x-python",
   "name": "python",
   "nbconvert_exporter": "python",
   "pygments_lexer": "ipython3",
   "version": "3.13.3"
  }
 },
 "nbformat": 4,
 "nbformat_minor": 5
}
